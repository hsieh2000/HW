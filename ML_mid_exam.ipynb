{
  "nbformat": 4,
  "nbformat_minor": 0,
  "metadata": {
    "colab": {
      "provenance": [],
      "authorship_tag": "ABX9TyNAlWlI2kpVLvBmkTKhk3Y6",
      "include_colab_link": true
    },
    "kernelspec": {
      "name": "python3",
      "display_name": "Python 3"
    },
    "language_info": {
      "name": "python"
    }
  },
  "cells": [
    {
      "cell_type": "markdown",
      "metadata": {
        "id": "view-in-github",
        "colab_type": "text"
      },
      "source": [
        "<a href=\"https://colab.research.google.com/github/hsieh2000/HW/blob/main/ML_mid_exam.ipynb\" target=\"_parent\"><img src=\"https://colab.research.google.com/assets/colab-badge.svg\" alt=\"Open In Colab\"/></a>"
      ]
    },
    {
      "cell_type": "code",
      "source": [
        "import random\n",
        "th0 = 3\n",
        "th1 = 1\n",
        "lr = 0.05\n",
        "\n",
        "lst_x = [-3, -1, 0, 1, 4]\n",
        "lst_y = [7, 4, 2, 0, -8]\n",
        "\n",
        "sequence = [0,1,2,3,4]\n",
        "# sequence = random.sample(sequence,5)\n",
        "\n",
        "def hx(th0, th1, x):\n",
        "    hx = th0+th1*x\n",
        "    return hx\n",
        "    \n",
        "def E(th0, th1, x, y):\n",
        "    E = 0.5*(hx(th0, th1, x)-y)**2\n",
        "    return E\n",
        "\n",
        "def update(th0, th1, x, y, lr):\n",
        "    new_th0 = th0-lr*( hx(th0, th1, x) - y)\n",
        "    new_th1 = th1-lr*( hx(th0, th1, x) - y)*x\n",
        "    return (new_th0, new_th1)\n",
        "\n",
        "for i in sequence:\n",
        "    para = update(th0, th1, lst_x[i], lst_y[i], lr)\n",
        "    th0 = para[0]\n",
        "    th1 = para[1]\n",
        "    print(f\"number{i+1}:\\n x: {lst_x[i]}, y: {lst_y[i]}\")\n",
        "    print(\"th0: {:.3f}, th1: {:.3f}\".format(th0, th1))"
      ],
      "metadata": {
        "colab": {
          "base_uri": "https://localhost:8080/"
        },
        "id": "6mlzHfYyE32w",
        "outputId": "b13b8dbe-24f5-4f39-f5e8-317647f3523c"
      },
      "execution_count": 2,
      "outputs": [
        {
          "output_type": "stream",
          "name": "stdout",
          "text": [
            "number1:\n",
            " x: -3, y: 7\n",
            "th0: 3.350, th1: -0.050\n",
            "number2:\n",
            " x: -1, y: 4\n",
            "th0: 3.380, th1: -0.080\n",
            "number3:\n",
            " x: 0, y: 2\n",
            "th0: 3.311, th1: -0.080\n",
            "number4:\n",
            " x: 1, y: 0\n",
            "th0: 3.149, th1: -0.242\n",
            "number5:\n",
            " x: 4, y: -8\n",
            "th0: 2.640, th1: -2.278\n"
          ]
        }
      ]
    },
    {
      "cell_type": "code",
      "source": [],
      "metadata": {
        "id": "EEAewi3IE55h"
      },
      "execution_count": null,
      "outputs": []
    }
  ]
}