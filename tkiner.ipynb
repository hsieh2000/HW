{
  "nbformat": 4,
  "nbformat_minor": 0,
  "metadata": {
    "colab": {
      "provenance": [],
      "authorship_tag": "ABX9TyMF+Ds553DxG39i5k/YZSxN",
      "include_colab_link": true
    },
    "kernelspec": {
      "name": "python3",
      "display_name": "Python 3"
    },
    "language_info": {
      "name": "python"
    }
  },
  "cells": [
    {
      "cell_type": "markdown",
      "metadata": {
        "id": "view-in-github",
        "colab_type": "text"
      },
      "source": [
        "<a href=\"https://colab.research.google.com/github/hsieh2000/HW/blob/main/tkiner.ipynb\" target=\"_parent\"><img src=\"https://colab.research.google.com/assets/colab-badge.svg\" alt=\"Open In Colab\"/></a>"
      ]
    },
    {
      "cell_type": "code",
      "source": [
        "from tkinter import *\n",
        "from tkinter import ttk\n",
        "import re\n",
        "import random\n",
        "import pandas as pd\n",
        "import datetime"
      ],
      "metadata": {
        "id": "T7fzEy1Nxra3"
      },
      "execution_count": 1,
      "outputs": []
    },
    {
      "cell_type": "code",
      "source": [
        "# df = pd.DataFrame(columns = [\"日期\",\"品項\",\"類別\",\"甜度\",\"冰塊\",\"價錢\"])\n",
        "# df.to_csv(r\"C:\\Users\\M07332\\Desktop\\eat\\eat.csv\", encoding=\"utf-8\", index = False)"
      ],
      "metadata": {
        "id": "OJd9SF47xsRq"
      },
      "execution_count": 2,
      "outputs": []
    },
    {
      "cell_type": "code",
      "source": [
        "df = pd.read_csv(r\"C:\\Users\\M07332\\Desktop\\eat\\eat.csv\", encoding=\"utf-8\")\n",
        "df"
      ],
      "metadata": {
        "id": "5lZd6Ngrx2lH"
      },
      "execution_count": null,
      "outputs": []
    },
    {
      "cell_type": "code",
      "source": [
        "window = Tk()\n",
        "window.geometry('200x150')\n",
        "window.title(\"飲食紀錄表\")\n",
        "window.configure(bg='#E8D3AD')\n",
        "window.minsize(width=700, height=700)\n",
        "\n",
        "\n",
        "\n",
        "window.resizable(width=False, height=False)\n",
        "label = Label(window, text=\"飲食紀錄表\", font=(\"Arial\", 14, \"bold\"), padx=5, pady=5, bg=\"#E8D3AD\", fg=\"#464232\")\n",
        "label.grid(row=0,column=1)\n",
        "    \n",
        "item_text = StringVar()\n",
        "price_text = IntVar()\n",
        "\n",
        "\n",
        "\n",
        "item_text.set( \"請輸入品項\")\n",
        "price_text.set( \"請輸入價錢\")\n",
        "\n",
        "\n",
        "\n",
        "item_label = Label(window, text=\"品項 : \", font=(\"Arial\", 14, \"bold\"), padx=5, pady=5, bg=\"#E8D3AD\", fg=\"#464232\")\n",
        "item_label.grid(row=1,column=0)\n",
        "item = Entry(window, width=30, font=(\"Arial\", 14, \"bold\"), bg=\"#E8D3AD\", fg=\"#464232\", state=NORMAL, textvariable = item_text)\n",
        "item.grid(row=1,column=1)\n",
        "\n",
        "\n",
        "\n",
        "Type_label = Label(window, text=\"類別 : \", font=(\"Arial\", 14, \"bold\"), padx=5, pady=5, bg=\"#E8D3AD\", fg=\"#464232\")\n",
        "Type_label.grid(row=2,column=0)\n",
        "Type = ttk.Combobox(window, values=['請選擇','飲料','早餐','午餐','點心'], width=30, font=(\"Arial\", 14, \"bold\"))\n",
        "Type.grid(row=2,column=1)\n",
        "Type.current(0)\n",
        "\n",
        "\n",
        "\n",
        "sugar_label = Label(window, text=\"甜度 : \", font=(\"Arial\", 14, \"bold\"), padx=5, pady=5, bg=\"#E8D3AD\", fg=\"#464232\")\n",
        "sugar_label.grid(row=3,column=0)\n",
        "sugar = ttk.Combobox(window, values=['請選擇','全糖','少糖','半糖','微糖',\"無糖\"], width=30, font=(\"Arial\", 14, \"bold\"))\n",
        "sugar.grid(row=3,column=1)\n",
        "sugar.current(0)\n",
        "\n",
        "\n",
        "\n",
        "ice_label = Label(window, text=\"冰塊 : \", font=(\"Arial\", 14, \"bold\"), padx=5, pady=5, bg=\"#E8D3AD\", fg=\"#464232\")\n",
        "ice_label.grid(row=4,column=0)\n",
        "ice = ttk.Combobox(window, values=['請選擇','正常冰','少冰','微冰',\"去冰\"], width=30, font=(\"Arial\", 14, \"bold\"))\n",
        "ice.grid(row=4,column=1)\n",
        "ice.current(0)\n",
        "\n",
        "\n",
        "\n",
        "price_label = Label(window, text=\"價錢 : \", font=(\"Arial\", 14, \"bold\"), padx=5, pady=5, bg=\"#E8D3AD\", fg=\"#464232\")\n",
        "price_label.grid(row=5,column=0)\n",
        "price = Entry(window, width=30, font=(\"Arial\", 14, \"bold\"), bg=\"#E8D3AD\", fg=\"#464232\", state=NORMAL, textvariable = price_text)\n",
        "price.grid(row=5,column=1)\n",
        "\n",
        "\n",
        "\n",
        "def update(dict_):\n",
        "    df = pd.read_csv(r\"C:\\Users\\M07332\\Desktop\\eat\\eat.csv\", encoding=\"utf-8\")\n",
        "    for i,j in enumerate(dict_.values()):\n",
        "        if i == 0:\n",
        "            pass\n",
        "        elif \"請輸入\" in j:\n",
        "            dict_[list(dict_.keys())[i]] = \"\"\n",
        "        elif \"請選擇\" in j:\n",
        "            dict_[list(dict_.keys())[i]] = \"\"\n",
        "\n",
        "\n",
        "\n",
        "   df = df.append(dict_, ignore_index=True)\n",
        "    df.to_csv(r\"C:\\Users\\M07332\\Desktop\\eat\\eat.csv\", encoding=\"utf-8\", index=False)\n",
        "    return True\n",
        "    \n",
        "def output(dict_):\n",
        "    a = dict_[\"日期\"]\n",
        "    b = dict_[\"品項\"]\n",
        "    c = dict_[\"類別\"]\n",
        "    d = dict_[\"甜度\"]\n",
        "    e = dict_[\"冰塊\"]\n",
        "    f = dict_[\"價錢\"]\n",
        "    abstract = f\"日期:{a}\\n品項:{b}\\n類別:{c}\\n甜度:{d}\\n冰塊:{e}\\n價錢:{f}\"    \n",
        "    result_text.set(abstract)\n",
        "    return True\n",
        "\n",
        "\n",
        "\n",
        "def receipt():\n",
        "    dict_ = {\"日期\" : pd.Timestamp.now().to_pydatetime(),\n",
        "             \"品項\" : str(item.get()),\n",
        "             \"類別\" : str(Type.get()),\n",
        "             \"甜度\" : str(sugar.get()),\n",
        "             \"冰塊\" : str(ice.get()),\n",
        "             \"價錢\" : str(price.get())}\n",
        "    update(dict_)\n",
        "    print(dict_)\n",
        "    \n",
        "    item_text.set( \"請輸入品項\" )\n",
        "    Type_text.set( \"請輸入類別\" )\n",
        "    sugar_text.set( \"請輸入甜度\" )\n",
        "    ice_text.set( \"請輸入冰塊\" )\n",
        "    price_text.set( \"請輸入價錢\" )\n",
        "    \n",
        "    output(dict_)\n",
        "    return dict_\n",
        "\n",
        "\n",
        "\n",
        "def history_():\n",
        "    df = pd.read_csv(r\"C:\\Users\\M07332\\Desktop\\eat\\eat.csv\", encoding=\"utf-8\")\n",
        "    df = df[df['日期'].str.contains(datetime.datetime.today().strftime('%Y-%m'))]\n",
        "    df[\"日期\"]=df[\"日期\"].apply(lambda x: x.split(\" \")[0])\n",
        "    data = str(df.iloc[:,:])\n",
        "    \n",
        "    regex = re.compile(\" +\")\n",
        "    data = re.sub(regex,'  |  ',str(data))\n",
        "\n",
        "\n",
        "\n",
        "   lst = str(data).split(\"\\n\")\n",
        "    \n",
        "    for values in lst:\n",
        "        his_lst.insert(END, values)\n",
        "    print(str(data))\n",
        "    \n",
        "    return True\n",
        "\n",
        "\n",
        "\n",
        "def clean():\n",
        "    ice.current(0)\n",
        "    sugar.current(0)\n",
        "    Type.current(0)\n",
        "    item_text.set( \"請輸入品項\" )\n",
        "    price_text.set( \"請輸入價錢\" )\n",
        "    result_text.set(\"\")\n",
        "    his_lst.delete(0, END)\n",
        "\n",
        "\n",
        "\n",
        "clean = Button(text=\"清除資料\", font=(\"Arial\", 14, \"bold\"), padx=5, pady=5, bg=\"#464232\", fg=\"#F5E9CD\", command=clean)\n",
        "clean.grid(row=6,column=0)\n",
        "\n",
        "\n",
        "\n",
        "sent = Button(text=\"送出紀錄\", font=(\"Arial\", 14, \"bold\"), padx=5, pady=5, bg=\"#464232\", fg=\"#F5E9CD\", command=receipt)\n",
        "sent.grid(row=6,column=1)\n",
        "    \n",
        "his = Button(text=\"本月紀錄\", font=(\"Arial\", 14, \"bold\"), bg=\"#464232\", fg=\"#F5E9CD\", command=history_)\n",
        "his.grid(row=6,column=2)\n",
        "\n",
        "\n",
        "\n",
        "result_text = StringVar()\n",
        "result_text.set(\"\")\n",
        "result = Label(window, textvariable=result_text, font=(\"Arial\", 14, \"bold\"), padx=5, pady=5, bg=\"#D7C29A\", fg=\"#464232\")\n",
        "result.grid(row=7,column=1)\n",
        "\n",
        "\n",
        "\n",
        "his_lst = Listbox(window, width=40, height=10, font=(\"Arial\", 14, \"bold\"),bg=\"#D7C29A\", fg=\"#464232\")\n",
        "his_lst.grid(row=8,column=1, sticky=W)\n",
        "yscrollbar = Scrollbar(window, orient='vertical')\n",
        "xscrollbar = Scrollbar(window, orient='horizontal')\n",
        "his_lst.config(yscrollcommand = yscrollbar.set)\n",
        "his_lst.config(xscrollcommand = xscrollbar.set)\n",
        "yscrollbar.config(command = his_lst.yview)\n",
        "xscrollbar.config(command = his_lst.xview)\n",
        "yscrollbar.grid(row=8, column=2, sticky=W)\n",
        "xscrollbar.grid(row=9, column=1)\n",
        "\n",
        "\n",
        "\n",
        "window.mainloop()"
      ],
      "metadata": {
        "colab": {
          "base_uri": "https://localhost:8080/",
          "height": 132
        },
        "id": "Le_KxmCExvNu",
        "outputId": "157663eb-4f99-4dda-d16d-96cf89113278"
      },
      "execution_count": 4,
      "outputs": [
        {
          "output_type": "error",
          "ename": "IndentationError",
          "evalue": "ignored",
          "traceback": [
            "\u001b[0;36m  File \u001b[0;32m\"<tokenize>\"\u001b[0;36m, line \u001b[0;32m73\u001b[0m\n\u001b[0;31m    df = df.append(dict_, ignore_index=True)\u001b[0m\n\u001b[0m    ^\u001b[0m\n\u001b[0;31mIndentationError\u001b[0m\u001b[0;31m:\u001b[0m unindent does not match any outer indentation level\n"
          ]
        }
      ]
    },
    {
      "cell_type": "code",
      "source": [],
      "metadata": {
        "id": "wQcFMbX4xy_-"
      },
      "execution_count": null,
      "outputs": []
    }
  ]
}